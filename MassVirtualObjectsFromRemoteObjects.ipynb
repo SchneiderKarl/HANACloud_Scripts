{
 "cells": [
  {
   "cell_type": "code",
   "execution_count": 2,
   "metadata": {},
   "outputs": [
    {
     "name": "stderr",
     "output_type": "stream",
     "text": [
      "ModuleNotFoundError: No module named 'shapely'\n"
     ]
    }
   ],
   "source": [
    "# pip install hana-ml\n",
    "from hana_ml import dataframe"
   ]
  },
  {
   "cell_type": "code",
   "execution_count": 2,
   "metadata": {},
   "outputs": [
    {
     "name": "stderr",
     "output_type": "stream",
     "text": [
      "ModuleNotFoundError: No module named 'shapely'\n"
     ]
    }
   ],
   "source": [
    "from hana_ml import dataframe"
   ]
  },
  {
   "cell_type": "code",
   "execution_count": 3,
   "metadata": {},
   "outputs": [],
   "source": [
    "conn = dataframe.ConnectionContext(address=\"a129e995-340b-43db-a7f4-d1949f62c7c3.hana.prod-eu10.hanacloud.ondemand.com\",\n",
    "                                       port=443,\n",
    "                                       user=\"KARLSCHNEIDER\",\n",
    "                                       password=\"Welcome04\")"
   ]
  },
  {
   "cell_type": "code",
   "execution_count": 4,
   "metadata": {},
   "outputs": [
    {
     "name": "stdout",
     "output_type": "stream",
     "text": [
      "        CURRENT_TIMESTAMP CURRENT_DATE   CURRENT_USER CURRENT_SCHEMA\n",
      "0 2023-11-27 08:52:10.451   2023-11-27  KARLSCHNEIDER  KARLSCHNEIDER\n"
     ]
    }
   ],
   "source": [
    "# df = conn.table('MY_TABLE', schema='KARLSCHNEIDER')\n",
    "df = dataframe.DataFrame(conn, 'select CURRENT_TIMESTAMP,CURRENT_DATE,CURRENT_USER,CURRENT_SCHEMA from DUMMY')\n",
    "pandas_df = df.collect()\n",
    "print(pandas_df)"
   ]
  },
  {
   "cell_type": "code",
   "execution_count": 9,
   "metadata": {},
   "outputs": [],
   "source": [
    "# INPUTS\n",
    "#REMOTE_SOURCE_NAME='I531155_ODataAdapter_S4_INTEGRATION'\n",
    "#FILTER_CLAUSE='A_ProductSalesT%'\n",
    "REMOTE_DATABASE_NAME='<NULL>'\n",
    "REMOTE_SCHEMA_NAME='<NULL>'\n",
    "REMOTE_SOURCE_NAME='I531155_ABAPAdapter_S4_INTEGRATION'\n",
    "FILTER_CLAUSE='ABAPTABLES.MARA_'\n",
    "#FILTER_CLAUSE='ABAPTABLES.MAR%'"
   ]
  },
  {
   "cell_type": "code",
   "execution_count": null,
   "metadata": {},
   "outputs": [],
   "source": [
    "# Create Dictionary on Remote Source to Fill REMOTE_SOURCE_OBJECTS System View\n",
    "#conn.execute_sql('ALTER REMOTE SOURCE \"' + REMOTE_SOURCE_NAME + '\" REFRESH OBJECTS')\n",
    "# Clear Dictionary\n",
    "#conn.execute_sql('ALTER REMOTE SOURCE \"' REMOTE_SOURCE_NAME + '\"\" CLEAR OBJECTS')"
   ]
  },
  {
   "cell_type": "code",
   "execution_count": 10,
   "metadata": {},
   "outputs": [
    {
     "name": "stdout",
     "output_type": "stream",
     "text": [
      "                    REMOTE_SOURCE_NAME                OBJECT_NAME\n",
      "0   I531155_ABAPAdapter_S4_INTEGRATION  ABAPTABLES.MARA_DRAD_STXL\n",
      "1   I531155_ABAPAdapter_S4_INTEGRATION       ABAPTABLES.MARA_STXL\n",
      "2   I531155_ABAPAdapter_S4_INTEGRATION       ABAPTABLES.MARC_STXL\n",
      "3   I531155_ABAPAdapter_S4_INTEGRATION       ABAPTABLES.MARA_AUSP\n",
      "4   I531155_ABAPAdapter_S4_INTEGRATION           ABAPTABLES.MARCH\n",
      "..                                 ...                        ...\n",
      "83  I531155_ABAPAdapter_S4_INTEGRATION           ABAPTABLES.MARA1\n",
      "84  I531155_ABAPAdapter_S4_INTEGRATION       ABAPTABLES.MARA_KSSK\n",
      "85  I531155_ABAPAdapter_S4_INTEGRATION           ABAPTABLES.MARCU\n",
      "86  I531155_ABAPAdapter_S4_INTEGRATION            ABAPTABLES.MARV\n",
      "87  I531155_ABAPAdapter_S4_INTEGRATION            ABAPTABLES.MARU\n",
      "\n",
      "[88 rows x 2 columns]\n",
      "\n"
     ]
    }
   ],
   "source": [
    "# Get All Remote Objects that are Starting with A_ProductP in Remote Source I531155_ODataAdapter_S4_INTEGRATION  \n",
    "#df = dataframe.DataFrame(conn, 'SELECT REMOTE_SOURCE_NAME, OBJECT_NAME FROM REMOTE_SOURCE_OBJECTS where REMOTE_SOURCE_NAME = \\'I531155_ODataAdapter_S4_INTEGRATION\\' and OBJECT_NAME like \\'A_ProductSalesT%\\'')\n",
    "df = dataframe.DataFrame(conn, 'SELECT REMOTE_SOURCE_NAME, OBJECT_NAME FROM REMOTE_SOURCE_OBJECTS where REMOTE_SOURCE_NAME =\\'' + REMOTE_SOURCE_NAME +'\\'and OBJECT_NAME like \\''+FILTER_CLAUSE +'\\'')\n",
    "\n",
    "\n",
    "# Convert HANA Dataframe to pandas Dataframe\n",
    "pandas_df = df.collect()\n",
    "print(pandas_df)\n",
    "print('')"
   ]
  },
  {
   "cell_type": "code",
   "execution_count": 11,
   "metadata": {},
   "outputs": [
    {
     "name": "stdout",
     "output_type": "stream",
     "text": [
      "Object: ABAPTABLES.MARA_DRAD_STXL\n",
      "\n",
      "Empty DataFrame\n",
      "Columns: [MANDT, MATNR, TDOBJECT, TDNAME, TDID, TDSPRAS, LINE_COUNTER, DOKAR, DOKNR, DOKVR, DOKTL, DOKOB, OBZAE, OBJKY, TDFORMAT, TDLINE]\n",
      "Index: []\n",
      "\n",
      "Object: ABAPTABLES.MARA_STXL\n",
      "\n",
      "Empty DataFrame\n",
      "Columns: [MANDT, MATNR, TDOBJECT, TDNAME, TDID, TDSPRAS, LINE_COUNTER, TDFORMAT, TDLINE]\n",
      "Index: []\n",
      "\n",
      "Object: ABAPTABLES.MARC_STXL\n",
      "\n",
      "Empty DataFrame\n",
      "Columns: [MANDT, MATNR, WERKS, TDOBJECT, TDNAME, TDID, TDSPRAS, LINE_COUNTER, TDFORMAT, TDLINE]\n",
      "Index: []\n",
      "\n",
      "Object: ABAPTABLES.MARA_AUSP\n",
      "\n",
      "Empty DataFrame\n",
      "Columns: [MANDT, MATNR, ATINN, ATZHL, MAFID, KLART, ADZHL, ATWRT, ATFLV, ATAWE, ATFLB, ATAW1, ATCOD, ATTLV, ATTLB, ATPRZ, ATINC, ATAUT, AENNR, DATUV, LKENZ, ATIMB, ATZIS, ATSRT, ATVGLART, DATUB, DEC_VALUE_FROM, DEC_VALUE_TO, CURR_VALUE_FROM, CURR_VALUE_TO, CURRENCY, DATE_FROM, DATE_TO, TIME_FROM, TIME_TO]\n",
      "Index: []\n",
      "\n",
      "[0 rows x 35 columns]\n",
      "\n",
      "Object: ABAPTABLES.MARCH\n",
      "\n",
      "Empty DataFrame\n",
      "Columns: [MANDT, MATNR, WERKS, LFGJA, LFMON, UMLMC, TRAME, VKUMC, VKTRW, GLGMG, VKGLG, BWESB, /CWM/UMLMC, /CWM/TRAME, /CWM/BWESB]\n",
      "Index: []\n",
      "\n",
      "Object: ABAPTABLES.MARCHO1\n",
      "\n",
      "Empty DataFrame\n",
      "Columns: [MANDT, MATNR, WERKS, LFGJA, LFMON, MSEHI, UMLMC, TRAME]\n",
      "Index: []\n",
      "\n",
      "Object: ABAPTABLES.MARCO1\n",
      "\n",
      "Empty DataFrame\n",
      "Columns: [MANDT, MATNR, WERKS, MSEHI, UMLMC, TRAME]\n",
      "Index: []\n",
      "\n",
      "Object: ABAPTABLES.MARD\n",
      "\n",
      "  MANDT    MATNR WERKS LGORT PSTAT LVORM LFGJA LFMON SPERR LABST  ...  \\\n",
      "0   100  RMJIT01  1010  101B     L        2020    02           0  ...   \n",
      "\n",
      "  /CWM/KLABS /CWM/KINSM /CWM/KEINM /CWM/KSPEM /CWM/VMLAB /CWM/VMINS  \\\n",
      "0          0          0          0          0          0          0   \n",
      "\n",
      "  /CWM/VMEIN /CWM/VMSPE /CWM/VMRET /CWM/VMUML  \n",
      "0          0          0          0          0  \n",
      "\n",
      "[1 rows x 68 columns]\n",
      "\n",
      "Object: ABAPTABLES.MARDH\n",
      "\n",
      "  MANDT          MATNR WERKS LGORT LFGJA LFMON LABST UMLME INSME EINME SPEME  \\\n",
      "0   100  MZ-RM-C990-03  1710  171C  2017    11   726     0     0     0     0   \n",
      "\n",
      "  RETME VKLAB VKUML /CWM/LABST /CWM/UMLME /CWM/INSME /CWM/EINME /CWM/SPEME  \\\n",
      "0     0     0     0          0          0          0          0          0   \n",
      "\n",
      "  /CWM/RETME  \n",
      "0          0  \n",
      "\n",
      "Object: ABAPTABLES.MARDHO1\n",
      "\n",
      "Empty DataFrame\n",
      "Columns: [MANDT, MATNR, WERKS, LGORT, LFGJA, LFMON, MSEHI, LABST, UMLME, INSME, EINME, SPEME, RETME]\n",
      "Index: []\n",
      "\n",
      "Object: ABAPTABLES.MARDO1\n",
      "\n",
      "Empty DataFrame\n",
      "Columns: [MANDT, MATNR, WERKS, LGORT, MSEHI, LABST, UMLME, INSME, EINME, SPEME, RETME, VMLAB, VMUML, VMINS, VMEIN, VMSPE, VMRET, KLABS, KINSM, KEINM, KSPEM]\n",
      "Index: []\n",
      "\n",
      "[0 rows x 21 columns]\n",
      "\n",
      "Object: ABAPTABLES.MARD_F4HELP\n",
      "\n"
     ]
    },
    {
     "name": "stderr",
     "output_type": "stream",
     "text": [
      "(403, 'internal error: Error opening the cursor for the remote database <I531155_ABAPAdapter_S4_INTEGRATION> TABLE_WITHOUT_DATA\\n')\n",
      "Failed to retrieve data for the current dataframe, (403, 'internal error: Error opening the cursor for the remote database <I531155_ABAPAdapter_S4_INTEGRATION> TABLE_WITHOUT_DATA\\n')\n"
     ]
    },
    {
     "ename": "Error",
     "evalue": "(403, 'internal error: Error opening the cursor for the remote database <I531155_ABAPAdapter_S4_INTEGRATION> TABLE_WITHOUT_DATA\\n')",
     "output_type": "error",
     "traceback": [
      "\u001b[0;31m---------------------------------------------------------------------------\u001b[0m",
      "\u001b[0;31mError\u001b[0m                                     Traceback (most recent call last)",
      "Cell \u001b[0;32mIn[11], line 12\u001b[0m\n\u001b[1;32m     10\u001b[0m \u001b[39m# Print Top 1 Row for every created virtual table for confirmation\u001b[39;00m\n\u001b[1;32m     11\u001b[0m df1 \u001b[39m=\u001b[39m dataframe\u001b[39m.\u001b[39mDataFrame(conn,\u001b[39m'\u001b[39m\u001b[39mSELECT TOP 1 * FROM \u001b[39m\u001b[39m\"\u001b[39m\u001b[39mVT_\u001b[39m\u001b[39m'\u001b[39m\u001b[39m+\u001b[39mrow[\u001b[39m\"\u001b[39m\u001b[39mOBJECT_NAME\u001b[39m\u001b[39m\"\u001b[39m]\u001b[39m+\u001b[39m\u001b[39m'\u001b[39m\u001b[39m\"\u001b[39m\u001b[39m'\u001b[39m)\n\u001b[0;32m---> 12\u001b[0m pd1 \u001b[39m=\u001b[39m df1\u001b[39m.\u001b[39;49mcollect()\n\u001b[1;32m     13\u001b[0m \u001b[39mprint\u001b[39m(pd1)\n\u001b[1;32m     14\u001b[0m \u001b[39mprint\u001b[39m(\u001b[39m'\u001b[39m\u001b[39m'\u001b[39m)\n",
      "File \u001b[0;32m~/projects/.venv/lib/python3.11/site-packages/hana_ml/dataframe.py:3709\u001b[0m, in \u001b[0;36mDataFrame.collect\u001b[0;34m(self, fetch_size, geometries, convert_geo_to_shapely)\u001b[0m\n\u001b[1;32m   3707\u001b[0m \u001b[39mif\u001b[39;00m \u001b[39mnot\u001b[39;00m \u001b[39mself\u001b[39m\u001b[39m.\u001b[39mconnection_context\u001b[39m.\u001b[39mpyodbc_connection:\n\u001b[1;32m   3708\u001b[0m     \u001b[39mtry\u001b[39;00m:\n\u001b[0;32m-> 3709\u001b[0m         results \u001b[39m=\u001b[39m \u001b[39mself\u001b[39;49m\u001b[39m.\u001b[39;49m__run_query(select_statement, fetch_size)\n\u001b[1;32m   3710\u001b[0m     \u001b[39mexcept\u001b[39;00m dbapi\u001b[39m.\u001b[39mError \u001b[39mas\u001b[39;00m exc:\n\u001b[1;32m   3711\u001b[0m         logger\u001b[39m.\u001b[39merror(\u001b[39m\"\u001b[39m\u001b[39mFailed to retrieve data for the current dataframe, \u001b[39m\u001b[39m%s\u001b[39;00m\u001b[39m\"\u001b[39m, exc)\n",
      "File \u001b[0;32m~/projects/.venv/lib/python3.11/site-packages/hana_ml/dataframe.py:1656\u001b[0m, in \u001b[0;36mDataFrame.__run_query\u001b[0;34m(self, query, fetch_size)\u001b[0m\n\u001b[1;32m   1654\u001b[0m \u001b[39mif\u001b[39;00m \u001b[39mnot\u001b[39;00m \u001b[39mself\u001b[39m\u001b[39m.\u001b[39mconnection_context\u001b[39m.\u001b[39mpyodbc_connection:\n\u001b[1;32m   1655\u001b[0m     cur\u001b[39m.\u001b[39msetfetchsize(fetch_size)\n\u001b[0;32m-> 1656\u001b[0m cur\u001b[39m.\u001b[39;49mexecute(query)\n\u001b[1;32m   1657\u001b[0m \u001b[39mreturn\u001b[39;00m cur\u001b[39m.\u001b[39mfetchall()\n",
      "\u001b[0;31mError\u001b[0m: (403, 'internal error: Error opening the cursor for the remote database <I531155_ABAPAdapter_S4_INTEGRATION> TABLE_WITHOUT_DATA\\n')"
     ]
    }
   ],
   "source": [
    "for index, row in pandas_df.iterrows():\n",
    "    # Test Interation \n",
    "    print('Object: '+ row[\"OBJECT_NAME\"])\n",
    "    print('')\n",
    "\n",
    "    # Create Virtual Table for all Objects in Data Frame (all Remote Objects with previously applied filter)\n",
    "    #conn.create_virtual_table(table='VT_'+row[\"OBJECT_NAME\"], remote_source='I531155_ODataAdapter_S4_INTEGRATION', remote_database='<NULL>', remote_schema='<NULL>', remote_table=row[\"OBJECT_NAME\"])\n",
    "    conn.create_virtual_table(table='VT_'+row[\"OBJECT_NAME\"], remote_source=REMOTE_SOURCE_NAME, remote_database=REMOTE_DATABASE_NAME, remote_schema=REMOTE_SCHEMA_NAME, remote_table=row[\"OBJECT_NAME\"])\n",
    "\n",
    "    # Print Top 1 Row for every created virtual table for confirmation\n",
    "    df1 = dataframe.DataFrame(conn,'SELECT TOP 1 * FROM \"VT_'+row[\"OBJECT_NAME\"]+'\"')\n",
    "    pd1 = df1.collect()\n",
    "    print(pd1)\n",
    "    print('')\n",
    "\n",
    "    # Drop every created Virtual Table\n",
    "    conn.drop_table(table='VT_'+row[\"OBJECT_NAME\"])"
   ]
  },
  {
   "cell_type": "code",
   "execution_count": 6,
   "metadata": {},
   "outputs": [],
   "source": [
    "# Close Connection to SAP HANA\n",
    "conn.close()"
   ]
  }
 ],
 "metadata": {
  "kernelspec": {
   "display_name": "Python 3",
   "language": "python",
   "name": "python3"
  },
  "language_info": {
   "codemirror_mode": {
    "name": "ipython",
    "version": 3
   },
   "file_extension": ".py",
   "mimetype": "text/x-python",
   "name": "python",
   "nbconvert_exporter": "python",
   "pygments_lexer": "ipython3",
   "version": "3.11.2"
  },
  "orig_nbformat": 4
 },
 "nbformat": 4,
 "nbformat_minor": 2
}
